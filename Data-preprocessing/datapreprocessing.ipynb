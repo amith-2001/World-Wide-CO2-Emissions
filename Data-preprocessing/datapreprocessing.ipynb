{
  "cells": [
    {
      "cell_type": "code",
      "execution_count": 1,
      "metadata": {
        "id": "hHY0e2CzTf2n",
        "outputId": "19c5e659-85e3-4759-e68a-a4921dafd65d"
      },
      "outputs": [
        {
          "name": "stdout",
          "output_type": "stream",
          "text": [
            "Collecting geopandas\n",
            "  Obtaining dependency information for geopandas from https://files.pythonhosted.org/packages/3e/cf/ede993ed7070c5487e6db550aad490178c06eaa48ad26ff5e5263f995fba/geopandas-0.14.1-py3-none-any.whl.metadata\n",
            "  Downloading geopandas-0.14.1-py3-none-any.whl.metadata (1.5 kB)\n",
            "Requirement already satisfied: pandas in /Users/rahul/anaconda3/lib/python3.11/site-packages (2.0.3)\n",
            "Collecting pyshp\n",
            "  Downloading pyshp-2.3.1-py2.py3-none-any.whl (46 kB)\n",
            "\u001b[2K     \u001b[90m━━━━━━━━━━━━━━━━━━━━━━━━━━━━━━━━━━━━━━━━\u001b[0m \u001b[32m46.5/46.5 kB\u001b[0m \u001b[31m3.0 MB/s\u001b[0m eta \u001b[36m0:00:00\u001b[0m\n",
            "\u001b[?25hCollecting geojson\n",
            "  Obtaining dependency information for geojson from https://files.pythonhosted.org/packages/8e/1b/4f57660aa148d3e3043d048b7e1ab87dfeb85204d0fdb5b4e19c08202162/geojson-3.1.0-py3-none-any.whl.metadata\n",
            "  Downloading geojson-3.1.0-py3-none-any.whl.metadata (16 kB)\n",
            "Collecting fiona>=1.8.21 (from geopandas)\n",
            "  Obtaining dependency information for fiona>=1.8.21 from https://files.pythonhosted.org/packages/62/50/cc0cbc48d4f11899611edfb23a99d9d43101d3d28f2ef90a5506782cae84/fiona-1.9.5-cp311-cp311-macosx_11_0_arm64.whl.metadata\n",
            "  Downloading fiona-1.9.5-cp311-cp311-macosx_11_0_arm64.whl.metadata (49 kB)\n",
            "\u001b[2K     \u001b[90m━━━━━━━━━━━━━━━━━━━━━━━━━━━━━━━━━━━━━━━━\u001b[0m \u001b[32m49.7/49.7 kB\u001b[0m \u001b[31m7.9 MB/s\u001b[0m eta \u001b[36m0:00:00\u001b[0m\n",
            "\u001b[?25hRequirement already satisfied: packaging in /Users/rahul/anaconda3/lib/python3.11/site-packages (from geopandas) (23.1)\n",
            "Collecting pyproj>=3.3.0 (from geopandas)\n",
            "  Obtaining dependency information for pyproj>=3.3.0 from https://files.pythonhosted.org/packages/30/bd/b9bd3761f08754e8dbb34c5a647db2099b348ab5da338e90980caf280e37/pyproj-3.6.1-cp311-cp311-macosx_11_0_arm64.whl.metadata\n",
            "  Downloading pyproj-3.6.1-cp311-cp311-macosx_11_0_arm64.whl.metadata (31 kB)\n",
            "Collecting shapely>=1.8.0 (from geopandas)\n",
            "  Obtaining dependency information for shapely>=1.8.0 from https://files.pythonhosted.org/packages/2c/b1/ca09649b4abe06366d41e90c3eee95a7741657404404a63bd0e8b53e32b8/shapely-2.0.2-cp311-cp311-macosx_11_0_arm64.whl.metadata\n",
            "  Downloading shapely-2.0.2-cp311-cp311-macosx_11_0_arm64.whl.metadata (7.0 kB)\n",
            "Requirement already satisfied: python-dateutil>=2.8.2 in /Users/rahul/anaconda3/lib/python3.11/site-packages (from pandas) (2.8.2)\n",
            "Requirement already satisfied: pytz>=2020.1 in /Users/rahul/anaconda3/lib/python3.11/site-packages (from pandas) (2023.3.post1)\n",
            "Requirement already satisfied: tzdata>=2022.1 in /Users/rahul/anaconda3/lib/python3.11/site-packages (from pandas) (2023.3)\n",
            "Requirement already satisfied: numpy>=1.21.0 in /Users/rahul/anaconda3/lib/python3.11/site-packages (from pandas) (1.24.3)\n",
            "Requirement already satisfied: attrs>=19.2.0 in /Users/rahul/anaconda3/lib/python3.11/site-packages (from fiona>=1.8.21->geopandas) (22.1.0)\n",
            "Requirement already satisfied: certifi in /Users/rahul/anaconda3/lib/python3.11/site-packages (from fiona>=1.8.21->geopandas) (2023.7.22)\n",
            "Requirement already satisfied: click~=8.0 in /Users/rahul/anaconda3/lib/python3.11/site-packages (from fiona>=1.8.21->geopandas) (8.0.4)\n",
            "Collecting click-plugins>=1.0 (from fiona>=1.8.21->geopandas)\n",
            "  Downloading click_plugins-1.1.1-py2.py3-none-any.whl (7.5 kB)\n",
            "Collecting cligj>=0.5 (from fiona>=1.8.21->geopandas)\n",
            "  Downloading cligj-0.7.2-py3-none-any.whl (7.1 kB)\n",
            "Requirement already satisfied: six in /Users/rahul/anaconda3/lib/python3.11/site-packages (from fiona>=1.8.21->geopandas) (1.16.0)\n",
            "Requirement already satisfied: setuptools in /Users/rahul/anaconda3/lib/python3.11/site-packages (from fiona>=1.8.21->geopandas) (68.0.0)\n",
            "Downloading geopandas-0.14.1-py3-none-any.whl (1.1 MB)\n",
            "\u001b[2K   \u001b[90m━━━━━━━━━━━━━━━━━━━━━━━━━━━━━━━━━━━━━━━━\u001b[0m \u001b[32m1.1/1.1 MB\u001b[0m \u001b[31m26.6 MB/s\u001b[0m eta \u001b[36m0:00:00\u001b[0m00:01\u001b[0m\n",
            "\u001b[?25hDownloading geojson-3.1.0-py3-none-any.whl (15 kB)\n",
            "Downloading fiona-1.9.5-cp311-cp311-macosx_11_0_arm64.whl (14.0 MB)\n",
            "\u001b[2K   \u001b[90m━━━━━━━━━━━━━━━━━━━━━━━━━━━━━━━━━━━━━━━━\u001b[0m \u001b[32m14.0/14.0 MB\u001b[0m \u001b[31m66.1 MB/s\u001b[0m eta \u001b[36m0:00:00\u001b[0m00:01\u001b[0m00:01\u001b[0m\n",
            "\u001b[?25hDownloading pyproj-3.6.1-cp311-cp311-macosx_11_0_arm64.whl (4.9 MB)\n",
            "\u001b[2K   \u001b[90m━━━━━━━━━━━━━━━━━━━━━━━━━━━━━━━━━━━━━━━━\u001b[0m \u001b[32m4.9/4.9 MB\u001b[0m \u001b[31m68.9 MB/s\u001b[0m eta \u001b[36m0:00:00\u001b[0ma \u001b[36m0:00:01\u001b[0m\n",
            "\u001b[?25hDownloading shapely-2.0.2-cp311-cp311-macosx_11_0_arm64.whl (1.3 MB)\n",
            "\u001b[2K   \u001b[90m━━━━━━━━━━━━━━━━━━━━━━━━━━━━━━━━━━━━━━━━\u001b[0m \u001b[32m1.3/1.3 MB\u001b[0m \u001b[31m53.8 MB/s\u001b[0m eta \u001b[36m0:00:00\u001b[0m\n",
            "\u001b[?25hInstalling collected packages: shapely, pyshp, pyproj, geojson, cligj, click-plugins, fiona, geopandas\n",
            "Successfully installed click-plugins-1.1.1 cligj-0.7.2 fiona-1.9.5 geojson-3.1.0 geopandas-0.14.1 pyproj-3.6.1 pyshp-2.3.1 shapely-2.0.2\n",
            "Note: you may need to restart the kernel to use updated packages.\n"
          ]
        }
      ],
      "source": [
        "%pip install geopandas pandas pyshp geojson\n"
      ]
    },
    {
      "cell_type": "code",
      "execution_count": 2,
      "metadata": {
        "id": "-lYg52PETf2q"
      },
      "outputs": [],
      "source": [
        "import pandas as pd\n",
        "import geopandas as gpd\n",
        "import geojson\n",
        "import json"
      ]
    },
    {
      "cell_type": "code",
      "execution_count": 3,
      "metadata": {
        "id": "vtwlEQ1_Tf2q",
        "outputId": "ac144a1b-c8c9-440f-c5fd-f699145aaaea"
      },
      "outputs": [],
      "source": [
        "df = pd.read_csv('CO2 emission by countries.csv')"
      ]
    },
    {
      "cell_type": "code",
      "execution_count": 4,
      "metadata": {
        "id": "x874O3ieTf2r",
        "outputId": "b0df478a-94b4-4f4d-82c4-c479e77ee7d2"
      },
      "outputs": [],
      "source": [
        "df = df.loc[:, ['Country', 'Year', 'CO2 emission (Tons)']]"
      ]
    },
    {
      "cell_type": "code",
      "execution_count": 5,
      "metadata": {
        "id": "6t5lwKQfTf2s",
        "outputId": "392d75c8-1274-4014-bb60-dfa4b43bfcc1"
      },
      "outputs": [],
      "source": [
        "total_world_emissions = df.groupby('Year')['CO2 emission (Tons)'].sum().reset_index()\n",
        "total_world_emissions = total_world_emissions.rename(columns={'CO2 emission (Tons)': 'Total World Emission (Tons)'})"
      ]
    },
    {
      "cell_type": "code",
      "execution_count": 6,
      "metadata": {
        "id": "OSWUSBXRTf2s",
        "outputId": "9d4d7f8e-a623-4870-8d7e-4aacaf1bedf1"
      },
      "outputs": [
        {
          "data": {
            "text/html": [
              "<div>\n",
              "<style scoped>\n",
              "    .dataframe tbody tr th:only-of-type {\n",
              "        vertical-align: middle;\n",
              "    }\n",
              "\n",
              "    .dataframe tbody tr th {\n",
              "        vertical-align: top;\n",
              "    }\n",
              "\n",
              "    .dataframe thead th {\n",
              "        text-align: right;\n",
              "    }\n",
              "</style>\n",
              "<table border=\"1\" class=\"dataframe\">\n",
              "  <thead>\n",
              "    <tr style=\"text-align: right;\">\n",
              "      <th></th>\n",
              "      <th>Country</th>\n",
              "      <th>Year</th>\n",
              "      <th>CO2 emission (Tons)</th>\n",
              "      <th>Total World Emission (Tons)</th>\n",
              "    </tr>\n",
              "  </thead>\n",
              "  <tbody>\n",
              "    <tr>\n",
              "      <th>0</th>\n",
              "      <td>Afghanistan</td>\n",
              "      <td>1750</td>\n",
              "      <td>0.0</td>\n",
              "      <td>9350528.0</td>\n",
              "    </tr>\n",
              "    <tr>\n",
              "      <th>1</th>\n",
              "      <td>Albania</td>\n",
              "      <td>1750</td>\n",
              "      <td>0.0</td>\n",
              "      <td>9350528.0</td>\n",
              "    </tr>\n",
              "    <tr>\n",
              "      <th>2</th>\n",
              "      <td>Algeria</td>\n",
              "      <td>1750</td>\n",
              "      <td>0.0</td>\n",
              "      <td>9350528.0</td>\n",
              "    </tr>\n",
              "    <tr>\n",
              "      <th>3</th>\n",
              "      <td>Andorra</td>\n",
              "      <td>1750</td>\n",
              "      <td>0.0</td>\n",
              "      <td>9350528.0</td>\n",
              "    </tr>\n",
              "    <tr>\n",
              "      <th>4</th>\n",
              "      <td>Angola</td>\n",
              "      <td>1750</td>\n",
              "      <td>0.0</td>\n",
              "      <td>9350528.0</td>\n",
              "    </tr>\n",
              "  </tbody>\n",
              "</table>\n",
              "</div>"
            ],
            "text/plain": [
              "       Country  Year  CO2 emission (Tons)  Total World Emission (Tons)\n",
              "0  Afghanistan  1750                  0.0                    9350528.0\n",
              "1      Albania  1750                  0.0                    9350528.0\n",
              "2      Algeria  1750                  0.0                    9350528.0\n",
              "3      Andorra  1750                  0.0                    9350528.0\n",
              "4       Angola  1750                  0.0                    9350528.0"
            ]
          },
          "execution_count": 6,
          "metadata": {},
          "output_type": "execute_result"
        }
      ],
      "source": [
        "df = df.merge(total_world_emissions, on='Year')\n",
        "# # Rename the 'CO2 emission (Tons)' column from df2\n",
        "# df = df.rename(columns={'Total World Emission (Tons)_y': 'Total World Emission (Tons)'})\n",
        "# # Drop the duplicate 'CO2 emission (Tons)' column\n",
        "# df = df.drop(columns=['Total World Emission (Tons)_x'])\n",
        "# Display the final DataFrame with formatting\n",
        "pd.options.display.float_format = '{:.1f}'.format\n",
        "df.head()"
      ]
    },
    {
      "cell_type": "code",
      "execution_count": 7,
      "metadata": {
        "id": "CZr8Z6fdTf2t"
      },
      "outputs": [],
      "source": [
        "output_folder = '../D3js-Visualization/data/'\n",
        "output_file = output_folder + 'emissions_processed.csv'\n",
        "\n",
        "df.to_csv(output_file, index=False)"
      ]
    },
    {
      "cell_type": "markdown",
      "metadata": {},
      "source": []
    },
    {
      "cell_type": "code",
      "execution_count": 8,
      "metadata": {
        "id": "poA7OJ2hTf2u",
        "outputId": "ae1a9e5f-183c-483d-aeb3-502ef713f2e9"
      },
      "outputs": [
        {
          "name": "stderr",
          "output_type": "stream",
          "text": [
            "/var/folders/xm/1ltp9mt50jnf0h9dw3nfw4ch0000gn/T/ipykernel_79518/1607004158.py:2: FutureWarning: The geopandas.dataset module is deprecated and will be removed in GeoPandas 1.0. You can get the original 'naturalearth_lowres' data from https://www.naturalearthdata.com/downloads/110m-cultural-vectors/.\n",
            "  world = gpd.read_file(gpd.datasets.get_path('naturalearth_lowres'))\n"
          ]
        }
      ],
      "source": [
        "# Download the Natural Earth dataset for countries with geometries\n",
        "world = gpd.read_file(gpd.datasets.get_path('naturalearth_lowres'))\n",
        "\n",
        "output_file = 'world_data.geojson'\n",
        "\n",
        "world.to_file(output_file, driver='GeoJSON')\n"
      ]
    },
    {
      "cell_type": "code",
      "execution_count": 9,
      "metadata": {
        "id": "4rT5T96kUIGQ"
      },
      "outputs": [],
      "source": [
        "# path_processed = \"../D3js-Visualization/data/emissions_processed.csv\"\n",
        "path_geojson = \"world_data.geojson\""
      ]
    },
    {
      "cell_type": "code",
      "execution_count": 10,
      "metadata": {
        "colab": {
          "base_uri": "https://localhost:8080/",
          "height": 246
        },
        "id": "jxA3DkjfUPdE",
        "outputId": "a8b0a5ab-c8f5-471e-d0f5-c09ce7e0ca7f"
      },
      "outputs": [],
      "source": [
        "import json\n",
        "with open(path_geojson, 'r') as geojson_file:\n",
        "    geojson_data = json.load(geojson_file)\n",
        "\n",
        "\n",
        "# # Print the loaded GeoJSON data\n",
        "# print(json.dumps(geojson_data))  # This will print the data with indentation for better readability\n"
      ]
    },
    {
      "cell_type": "code",
      "execution_count": 11,
      "metadata": {},
      "outputs": [],
      "source": [
        "countries_csv = []\n",
        "countries_geojson = []\n",
        "for feature in geojson_data['features']:\n",
        "    countries_geojson.append(feature['properties']['name'])\n",
        "\n",
        "for index, row in df.iterrows():\n",
        "    country = row['Country']\n",
        "    if country not in countries_csv:\n",
        "        countries_csv.append(country)\n",
        "\n",
        "\n",
        "result= list(set(countries_geojson) - set(countries_csv))\n",
        "# result"
      ]
    },
    {
      "cell_type": "code",
      "execution_count": 12,
      "metadata": {
        "colab": {
          "base_uri": "https://localhost:8080/",
          "height": 246
        },
        "id": "Qij38bvqURS0",
        "outputId": "fddae144-32d3-47e6-f7b3-251a91c85abd"
      },
      "outputs": [],
      "source": [
        "# Create the dictionary\n",
        "emission_dict = {}\n",
        "custom_dict = {\n",
        "    'Timor': 'Timor-Leste',\n",
        "    'United States': 'United States of America',\n",
        "    'Eswatini': 'eSwatini',\n",
        "    'Bosnia and Herzegovina': 'Bosnia and Herz.',\n",
        "    'Solomon Islands': 'Solomon Is.',\n",
        "    'Central African Republic': 'Central African Rep.',\n",
        "    'South Sudan': 'S. Sudan',\n",
        "    \"Cote d'Ivoire\": \"Côte d'Ivoire\",\n",
        "    \"Equatorial Guinea\": \"Eq. Guinea\",\n",
        "    \"Dominican Republic\": \"Dominican Rep.\",\n",
        "    \"Democratic Republic of Congo\": \"Dem. Rep. Congo\",\n",
        "    \"Antartica\": \"Fr. S. Antarctic Lands\"\n",
        "}\n",
        "\n",
        "for index, row in df.iterrows():\n",
        "    country = row['Country']\n",
        "    year = int(row['Year'])\n",
        "    # print(country,year)\n",
        "    emission = row['CO2 emission (Tons)']\n",
        "    if country in custom_dict:\n",
        "        country = custom_dict[country]\n",
        "    if country not in emission_dict:\n",
        "        emission_dict[country] = {}\n",
        "    emission_dict[country][str(year)] = emission\n",
        "\n",
        "# Print the resulting dictionary\n",
        "# print(emission_dict,indent=2)\n",
        "# print(json.dumps(emission_dict))\n"
      ]
    },
    {
      "cell_type": "code",
      "execution_count": null,
      "metadata": {
        "colab": {
          "base_uri": "https://localhost:8080/",
          "height": 246
        },
        "id": "TNIblReCUTHa",
        "outputId": "62bce713-03d0-402f-9e76-5a979eece704"
      },
      "outputs": [],
      "source": [
        "# Assuming geojson_data is the loaded GeoJSON data (as a Python dictionary) and emission_dict is the dictionary you created\n",
        "\n",
        "# Iterate through the features in the GeoJSON data\n",
        "custom_emission_dict={}\n",
        "for i in range(1750,2021):\n",
        "    custom_emission_dict[str(i)] = 0\n",
        "for feature in geojson_data['features']:\n",
        "    country_name = feature['properties']['name']\n",
        "\n",
        "    if country_name in emission_dict:\n",
        "        feature['properties']['emission_data'] = emission_dict[country_name]\n",
        "    else:\n",
        "        feature['properties']['emission_data'] = custom_emission_dict\n",
        "# Save the updated GeoJSON data to a new file\n",
        "with open('../D3js-Visualization/data/world_data.geojson', 'w') as outfile:\n",
        "    json.dump(geojson_data, outfile)\n"
      ]
    },
    {
      "cell_type": "code",
      "execution_count": null,
      "metadata": {},
      "outputs": [],
      "source": []
    }
  ],
  "metadata": {
    "colab": {
      "provenance": []
    },
    "kernelspec": {
      "display_name": "base",
      "language": "python",
      "name": "python3"
    },
    "language_info": {
      "codemirror_mode": {
        "name": "ipython",
        "version": 3
      },
      "file_extension": ".py",
      "mimetype": "text/x-python",
      "name": "python",
      "nbconvert_exporter": "python",
      "pygments_lexer": "ipython3",
      "version": "3.11.5"
    }
  },
  "nbformat": 4,
  "nbformat_minor": 0
}
